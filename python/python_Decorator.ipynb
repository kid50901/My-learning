{
 "cells": [
  {
   "cell_type": "code",
   "execution_count": 9,
   "id": "f0507de4",
   "metadata": {},
   "outputs": [
    {
     "name": "stdout",
     "output_type": "stream",
     "text": [
      "C语言中文网\n",
      "学习 Python\n",
      "http://c.biancheng.net\n"
     ]
    }
   ],
   "source": [
    "#funA 作为装饰器函数\n",
    "def funA(fn):\n",
    "    print(\"C语言中文网\")\n",
    "    fn() # 执行传入的fn参数\n",
    "    print(\"http://c.biancheng.net\")\n",
    "    return \"装饰器函数的返回值\"\n",
    "@funA\n",
    "def funB():\n",
    "    print(\"学习 Python\")"
   ]
  },
  {
   "cell_type": "code",
   "execution_count": 10,
   "id": "a7544b15",
   "metadata": {},
   "outputs": [
    {
     "name": "stdout",
     "output_type": "stream",
     "text": [
      "C语言中文网\n",
      "学习 Python\n",
      "http://c.biancheng.net\n"
     ]
    },
    {
     "data": {
      "text/plain": [
       "'装饰器函数的返回值'"
      ]
     },
     "execution_count": 10,
     "metadata": {},
     "output_type": "execute_result"
    }
   ],
   "source": [
    "#funA 作为装饰器函数\n",
    "def funA(fn):\n",
    "    print(\"C语言中文网\")\n",
    "    fn() # 执行传入的fn参数\n",
    "    print(\"http://c.biancheng.net\")\n",
    "    return \"装饰器函数的返回值\"\n",
    "\n",
    "def funB():\n",
    "    print(\"学习 Python\")\n",
    "    \n",
    "funA(funB)"
   ]
  },
  {
   "cell_type": "code",
   "execution_count": 5,
   "id": "b5fa6b64",
   "metadata": {},
   "outputs": [
    {
     "name": "stdout",
     "output_type": "stream",
     "text": [
      "C语言中文网\n",
      "学习 Python\n",
      "http://c.biancheng.net\n",
      "装饰器函数的返回值\n"
     ]
    }
   ],
   "source": [
    "#funA 作为装饰器函数\n",
    "def funA(fn):\n",
    "    print(\"C语言中文网\")\n",
    "    fn() # 执行传入的fn参数\n",
    "    print(\"http://c.biancheng.net\")\n",
    "    return \"装饰器函数的返回值\"\n",
    "@funA\n",
    "def funB():\n",
    "    print(\"学习 Python\")\n",
    "print(funB)"
   ]
  },
  {
   "cell_type": "code",
   "execution_count": 1,
   "id": "c27decb0",
   "metadata": {},
   "outputs": [
    {
     "name": "stdout",
     "output_type": "stream",
     "text": [
      "C语言中文网\n",
      "学习 Python\n",
      "http://c.biancheng.net\n",
      "<function funB at 0x00000222520ED8B0>\n"
     ]
    }
   ],
   "source": [
    "#funA 作为装饰器函数\n",
    "def funA(fn):\n",
    "    print(\"C语言中文网\")\n",
    "    fn() # 执行传入的fn参数\n",
    "    print(\"http://c.biancheng.net\")\n",
    "    return \"装饰器函数的返回值\"\n",
    "\n",
    "def funB():\n",
    "    print(\"学习 Python\")\n",
    "    \n",
    "funA(funB)\n",
    "\n",
    "print(funB)"
   ]
  },
  {
   "cell_type": "code",
   "execution_count": 7,
   "id": "d329076b",
   "metadata": {},
   "outputs": [
    {
     "name": "stdout",
     "output_type": "stream",
     "text": [
      "It's funA1\n",
      "It's funC\n",
      "It's funA2\n",
      "3\n"
     ]
    },
    {
     "data": {
      "text/plain": [
       "4"
      ]
     },
     "execution_count": 7,
     "metadata": {},
     "output_type": "execute_result"
    }
   ],
   "source": [
    "def funA(desA):\n",
    "    print(\"It's funA1\")\n",
    "    a=2\n",
    "    m=desA(a)\n",
    "    print(\"It's funA2\")\n",
    "    print(m)\n",
    "    return m+1\n",
    "\n",
    "\n",
    "@funA\n",
    "def funC(x):\n",
    "    n=x+1\n",
    "    print(\"It's funC\")\n",
    "    return n\n",
    "funC"
   ]
  },
  {
   "cell_type": "code",
   "execution_count": 19,
   "id": "a6fc3ecf",
   "metadata": {},
   "outputs": [
    {
     "data": {
      "text/plain": [
       "<function __main__.funB(desB)>"
      ]
     },
     "execution_count": 19,
     "metadata": {},
     "output_type": "execute_result"
    }
   ],
   "source": []
  },
  {
   "cell_type": "code",
   "execution_count": 12,
   "id": "7b9663e4",
   "metadata": {},
   "outputs": [
    {
     "name": "stdout",
     "output_type": "stream",
     "text": [
      "0\n",
      "1\n",
      "2\n",
      "3\n"
     ]
    }
   ],
   "source": [
    "import time\n",
    "i=0\n",
    "while i <5:\n",
    "    print(i)\n",
    "    x=i+3\n",
    "    if x==6 :\n",
    "        break\n",
    "    i=i+1\n",
    "    time.sleep(2)\n",
    "pass\n",
    "    \n"
   ]
  },
  {
   "cell_type": "code",
   "execution_count": null,
   "id": "51771b0c",
   "metadata": {},
   "outputs": [],
   "source": []
  }
 ],
 "metadata": {
  "kernelspec": {
   "display_name": "Python 3",
   "language": "python",
   "name": "python3"
  },
  "language_info": {
   "codemirror_mode": {
    "name": "ipython",
    "version": 3
   },
   "file_extension": ".py",
   "mimetype": "text/x-python",
   "name": "python",
   "nbconvert_exporter": "python",
   "pygments_lexer": "ipython3",
   "version": "3.8.8"
  }
 },
 "nbformat": 4,
 "nbformat_minor": 5
}
