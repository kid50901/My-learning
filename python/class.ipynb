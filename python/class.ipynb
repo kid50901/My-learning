{
 "cells": [
  {
   "cell_type": "markdown",
   "id": "31530784",
   "metadata": {},
   "source": [
    "## 類別(class)\n",
    "* 物件的類型\n",
    "* ex.車類，altis、foucus都是車類"
   ]
  },
  {
   "cell_type": "markdown",
   "id": "0c9ad743",
   "metadata": {},
   "source": [
    "## 物件(object)\n",
    "* 物件實體\n",
    "* altis，altis是車類的其中一個型號"
   ]
  },
  {
   "cell_type": "markdown",
   "id": "f5ea2f98",
   "metadata": {},
   "source": [
    "## 定義類別\n",
    "* 屬性(Attribute) : 本類別的變數，ex.車的廠牌、車的型號....\n",
    "* 方法(Method) : 本類別的 function, 可利用屬性去設計一些邏輯函數"
   ]
  },
  {
   "cell_type": "code",
   "execution_count": 1,
   "id": "d66c6152",
   "metadata": {},
   "outputs": [],
   "source": [
    "class CarModel():\n",
    "    def __init__(self,Model,Brand):\n",
    "        self.Model=Model#屬性\n",
    "        self.Brand=Brand#屬性\n",
    "        self.introduce='this is a CarModel'\n",
    "    def PrintModel(self):#方法\n",
    "        print('this car model is {}'.format(self.Model))\n",
    "    def PrintBrand(self):#方法\n",
    "        print('this car brand is {}'.format(self.Brand))"
   ]
  },
  {
   "cell_type": "code",
   "execution_count": 2,
   "id": "cf168abf",
   "metadata": {},
   "outputs": [
    {
     "data": {
      "text/plain": [
       "<__main__.CarModel at 0x26648e59ca0>"
      ]
     },
     "execution_count": 2,
     "metadata": {},
     "output_type": "execute_result"
    }
   ],
   "source": [
    "yaris=CarModel('yaris','toyota') #物件\n",
    "yaris"
   ]
  },
  {
   "cell_type": "code",
   "execution_count": 3,
   "id": "b316a14d",
   "metadata": {},
   "outputs": [
    {
     "data": {
      "text/plain": [
       "'yaris'"
      ]
     },
     "execution_count": 3,
     "metadata": {},
     "output_type": "execute_result"
    }
   ],
   "source": [
    "yaris.Model #提取物件屬性"
   ]
  },
  {
   "cell_type": "code",
   "execution_count": 4,
   "id": "ba5232ba",
   "metadata": {},
   "outputs": [
    {
     "data": {
      "text/plain": [
       "'toyota'"
      ]
     },
     "execution_count": 4,
     "metadata": {},
     "output_type": "execute_result"
    }
   ],
   "source": [
    "yaris.Brand #提取物件屬性"
   ]
  },
  {
   "cell_type": "code",
   "execution_count": 5,
   "id": "ae8f2d95",
   "metadata": {},
   "outputs": [
    {
     "data": {
      "text/plain": [
       "'this is a CarModel'"
      ]
     },
     "execution_count": 5,
     "metadata": {},
     "output_type": "execute_result"
    }
   ],
   "source": [
    "yaris.introduce #提取物件屬性"
   ]
  },
  {
   "cell_type": "code",
   "execution_count": 6,
   "id": "d9d58989",
   "metadata": {},
   "outputs": [
    {
     "name": "stdout",
     "output_type": "stream",
     "text": [
      "this car brand is toyota\n"
     ]
    }
   ],
   "source": [
    "yaris.PrintBrand() #執行物件方法"
   ]
  },
  {
   "cell_type": "markdown",
   "id": "1fd888f1",
   "metadata": {},
   "source": [
    "## 繼承\n",
    "子類別繼承父類別的屬性與方法"
   ]
  },
  {
   "cell_type": "code",
   "execution_count": 24,
   "id": "953b2f0f",
   "metadata": {},
   "outputs": [],
   "source": [
    "class Transportation(): #父類別\n",
    "    def __init__(self,TransportationType,Model,Brand):\n",
    "        self.TransportationType=TransportationType#屬性\n",
    "        self.Model=Model#屬性\n",
    "        self.Brand=Brand#屬性\n",
    "        self.introduce1='this is a Transportation'\n",
    "    def PrintTransportationType(self):#方法\n",
    "        content='this is a {}'.format(self.TransportationType)\n",
    "        return content\n",
    "\n",
    "class CarModel(Transportation): #子類別繼承 Transportation 的屬性與方法\n",
    "    def __init__(self,TransportationType,Model,Brand,Panel_Model):\n",
    "        super().__init__(TransportationType,Model,Brand)\n",
    "        self.Panel_Model=Panel_Model#屬性\n",
    "        self.introduce2='this is a CarModel'\n",
    "    def PrintInfo(self):#方法\n",
    "        content='this {}， brand is {} ,model is {},use {} panel'.format(self.TransportationType,self.Brand,self.Model,self.Panel_Model)\n",
    "        return content\n",
    "\n",
    "class MotocycleModel(Transportation):  #子類別繼承 Transportation  的屬性與方法\n",
    "    def __init__(self,TransportationType,Model,Brand):\n",
    "        super().__init__(TransportationType,Model,Brand)\n",
    "        self.introduce2='this is a MotocycleModel'\n",
    "    def PrintInfo(self):#方法\n",
    "        content='this {}， brand is {} ,model is {}'.format(self.TransportationType,self.Brand,self.Model)\n",
    "        return content\n"
   ]
  },
  {
   "cell_type": "code",
   "execution_count": 25,
   "id": "b7c2afac",
   "metadata": {},
   "outputs": [
    {
     "data": {
      "text/plain": [
       "'this car， brand is toyota ,model is yaris,use apple panel'"
      ]
     },
     "execution_count": 25,
     "metadata": {},
     "output_type": "execute_result"
    }
   ],
   "source": [
    "CarModel('car','yaris','toyota','apple').PrintInfo()"
   ]
  },
  {
   "cell_type": "code",
   "execution_count": 26,
   "id": "fe8fd624",
   "metadata": {},
   "outputs": [
    {
     "data": {
      "text/plain": [
       "'this motocycle， brand is yamaha ,model is gtr_areo'"
      ]
     },
     "execution_count": 26,
     "metadata": {},
     "output_type": "execute_result"
    }
   ],
   "source": [
    "MotocycleModel('motocycle','gtr_areo','yamaha').PrintInfo()"
   ]
  },
  {
   "cell_type": "markdown",
   "id": "8e88fbd9",
   "metadata": {},
   "source": [
    "## 範例"
   ]
  },
  {
   "cell_type": "code",
   "execution_count": 8,
   "id": "06ca2b7f",
   "metadata": {},
   "outputs": [],
   "source": [
    "import pandas as pd\n",
    "class CarModel():\n",
    "    def __init__(self,Model):\n",
    "        self.Model=Model\n",
    "        modelMapping={'brand':['toyota','toyota','toyota','toyota','honda','honda'],\n",
    "                     'model':['altis','yaris','yaris_ativ','vios','jazz','city_turbo'],\n",
    "                     'prise':[839000,539000,549000,609000,555000,590000]}\n",
    "        carImformation=pd.DataFrame(modelMapping)\n",
    "        self.myModelInfo=carImformation[carImformation['model']==Model]\n",
    "   "
   ]
  },
  {
   "cell_type": "code",
   "execution_count": 13,
   "id": "9865097c",
   "metadata": {},
   "outputs": [],
   "source": [
    "class CarModel1(CarModel):\n",
    "    def __init__(self,Model,test):\n",
    "        super().__init__(Model)\n",
    "        self.test=test\n",
    "    def printt(self):\n",
    "        print(self.myModelInfo)"
   ]
  },
  {
   "cell_type": "code",
   "execution_count": 14,
   "id": "990c7667",
   "metadata": {},
   "outputs": [
    {
     "data": {
      "text/plain": [
       "'yaris'"
      ]
     },
     "execution_count": 14,
     "metadata": {},
     "output_type": "execute_result"
    }
   ],
   "source": [
    "CarModel1('yaris','try').Model"
   ]
  },
  {
   "cell_type": "code",
   "execution_count": null,
   "id": "11383af0",
   "metadata": {},
   "outputs": [],
   "source": []
  }
 ],
 "metadata": {
  "kernelspec": {
   "display_name": "Python 3",
   "language": "python",
   "name": "python3"
  },
  "language_info": {
   "codemirror_mode": {
    "name": "ipython",
    "version": 3
   },
   "file_extension": ".py",
   "mimetype": "text/x-python",
   "name": "python",
   "nbconvert_exporter": "python",
   "pygments_lexer": "ipython3",
   "version": "3.8.8"
  }
 },
 "nbformat": 4,
 "nbformat_minor": 5
}
