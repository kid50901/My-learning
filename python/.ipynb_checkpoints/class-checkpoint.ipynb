{
 "cells": [
  {
   "cell_type": "markdown",
   "id": "ba74634c",
   "metadata": {},
   "source": [
    "## 類別(class)\n",
    "* 物件的類型\n",
    "* ex.車類，altis、foucus都是車類"
   ]
  },
  {
   "cell_type": "markdown",
   "id": "71c3ae02",
   "metadata": {},
   "source": [
    "## 物件(object)\n",
    "* 物件實體\n",
    "* altis，altis是車類的其中一個型號"
   ]
  },
  {
   "cell_type": "markdown",
   "id": "00568c1e",
   "metadata": {},
   "source": [
    "## 定義類別\n",
    "* 屬性(Attribute) : 本類別的變數，ex.車的廠牌、車的型號....\n",
    "* 方法(Method) : 本類別的 function, 可利用屬性去設計一些邏輯函數"
   ]
  },
  {
   "cell_type": "code",
   "execution_count": 1,
   "id": "ea60f7c8",
   "metadata": {},
   "outputs": [],
   "source": [
    "class CarModel():\n",
    "    def __init__(self,Model,Brand):\n",
    "        self.Model=Model#屬性\n",
    "        self.Brand=Brand#屬性\n",
    "        self.introduce='this is a CarModel'\n",
    "    def PrintModel(self):#方法\n",
    "        print('this car model is {}'.format(self.Model))\n",
    "    def PrintBrand(self):#方法\n",
    "        print('this car brand is {}'.format(self.Brand))"
   ]
  },
  {
   "cell_type": "code",
   "execution_count": 2,
   "id": "c3f9e30a",
   "metadata": {},
   "outputs": [
    {
     "data": {
      "text/plain": [
       "<__main__.CarModel at 0x2c20e92bbb0>"
      ]
     },
     "execution_count": 2,
     "metadata": {},
     "output_type": "execute_result"
    }
   ],
   "source": [
    "yaris=CarModel('yaris','toyota') #物件\n",
    "yaris"
   ]
  },
  {
   "cell_type": "code",
   "execution_count": 3,
   "id": "9772a0e6",
   "metadata": {},
   "outputs": [
    {
     "data": {
      "text/plain": [
       "'yaris'"
      ]
     },
     "execution_count": 3,
     "metadata": {},
     "output_type": "execute_result"
    }
   ],
   "source": [
    "yaris.Model #提取物件屬性"
   ]
  },
  {
   "cell_type": "code",
   "execution_count": 4,
   "id": "6b18096f",
   "metadata": {},
   "outputs": [
    {
     "data": {
      "text/plain": [
       "'toyota'"
      ]
     },
     "execution_count": 4,
     "metadata": {},
     "output_type": "execute_result"
    }
   ],
   "source": [
    "yaris.Brand #提取物件屬性"
   ]
  },
  {
   "cell_type": "code",
   "execution_count": 5,
   "id": "6b3dbccf",
   "metadata": {},
   "outputs": [
    {
     "data": {
      "text/plain": [
       "'this is a CarModel'"
      ]
     },
     "execution_count": 5,
     "metadata": {},
     "output_type": "execute_result"
    }
   ],
   "source": [
    "yaris.introduce #提取物件屬性"
   ]
  },
  {
   "cell_type": "code",
   "execution_count": 6,
   "id": "41870001",
   "metadata": {},
   "outputs": [
    {
     "ename": "NameError",
     "evalue": "name 'Brand' is not defined",
     "output_type": "error",
     "traceback": [
      "\u001b[1;31m---------------------------------------------------------------------------\u001b[0m",
      "\u001b[1;31mNameError\u001b[0m                                 Traceback (most recent call last)",
      "\u001b[1;32m<ipython-input-6-fde925d24570>\u001b[0m in \u001b[0;36m<module>\u001b[1;34m\u001b[0m\n\u001b[1;32m----> 1\u001b[1;33m \u001b[0myaris\u001b[0m\u001b[1;33m.\u001b[0m\u001b[0mPrintBrand\u001b[0m\u001b[1;33m(\u001b[0m\u001b[1;33m)\u001b[0m \u001b[1;31m#執行物件方法\u001b[0m\u001b[1;33m\u001b[0m\u001b[1;33m\u001b[0m\u001b[0m\n\u001b[0m",
      "\u001b[1;32m<ipython-input-1-34bc5082ff67>\u001b[0m in \u001b[0;36mPrintBrand\u001b[1;34m(self)\u001b[0m\n\u001b[0;32m      7\u001b[0m         \u001b[0mprint\u001b[0m\u001b[1;33m(\u001b[0m\u001b[1;34m'this car model is {}'\u001b[0m\u001b[1;33m.\u001b[0m\u001b[0mformat\u001b[0m\u001b[1;33m(\u001b[0m\u001b[0mModel\u001b[0m\u001b[1;33m)\u001b[0m\u001b[1;33m)\u001b[0m\u001b[1;33m\u001b[0m\u001b[1;33m\u001b[0m\u001b[0m\n\u001b[0;32m      8\u001b[0m     \u001b[1;32mdef\u001b[0m \u001b[0mPrintBrand\u001b[0m\u001b[1;33m(\u001b[0m\u001b[0mself\u001b[0m\u001b[1;33m)\u001b[0m\u001b[1;33m:\u001b[0m\u001b[1;31m#方法\u001b[0m\u001b[1;33m\u001b[0m\u001b[1;33m\u001b[0m\u001b[0m\n\u001b[1;32m----> 9\u001b[1;33m         \u001b[0mprint\u001b[0m\u001b[1;33m(\u001b[0m\u001b[1;34m'this car brand is {}'\u001b[0m\u001b[1;33m.\u001b[0m\u001b[0mformat\u001b[0m\u001b[1;33m(\u001b[0m\u001b[0mBrand\u001b[0m\u001b[1;33m)\u001b[0m\u001b[1;33m)\u001b[0m\u001b[1;33m\u001b[0m\u001b[1;33m\u001b[0m\u001b[0m\n\u001b[0m",
      "\u001b[1;31mNameError\u001b[0m: name 'Brand' is not defined"
     ]
    }
   ],
   "source": [
    "yaris.PrintBrand() #執行物件方法"
   ]
  },
  {
   "cell_type": "markdown",
   "id": "374dd6f1",
   "metadata": {},
   "source": [
    "## 範例"
   ]
  },
  {
   "cell_type": "code",
   "execution_count": 8,
   "id": "06ca2b7f",
   "metadata": {},
   "outputs": [],
   "source": [
    "import pandas as pd\n",
    "class CarModel():\n",
    "    def __init__(self,Model):\n",
    "        self.Model=Model\n",
    "        modelMapping={'brand':['toyota','toyota','toyota','toyota','honda','honda'],\n",
    "                     'model':['altis','yaris','yaris_ativ','vios','jazz','city_turbo'],\n",
    "                     'prise':[839000,539000,549000,609000,555000,590000]}\n",
    "        carImformation=pd.DataFrame(modelMapping)\n",
    "        self.myModelInfo=carImformation[carImformation['model']==Model]\n",
    "   "
   ]
  },
  {
   "cell_type": "code",
   "execution_count": 13,
   "id": "bf17b03d",
   "metadata": {},
   "outputs": [],
   "source": [
    "class CarModel1(CarModel):\n",
    "    def __init__(self,Model,test):\n",
    "        super().__init__(Model)\n",
    "        self.test=test\n",
    "    def printt(self):\n",
    "        print(self.myModelInfo)"
   ]
  },
  {
   "cell_type": "code",
   "execution_count": null,
   "id": "ff94db47",
   "metadata": {},
   "outputs": [],
   "source": [
    "* 物件(Object) :\n",
    "* 類別(Class) : \n",
    "* 屬性(Attribute)\n",
    "* 方法(Method)"
   ]
  },
  {
   "cell_type": "code",
   "execution_count": 14,
   "id": "38d0b37f",
   "metadata": {},
   "outputs": [
    {
     "data": {
      "text/plain": [
       "'yaris'"
      ]
     },
     "execution_count": 14,
     "metadata": {},
     "output_type": "execute_result"
    }
   ],
   "source": [
    "CarModel1('yaris','try').Model"
   ]
  },
  {
   "cell_type": "code",
   "execution_count": null,
   "id": "f0640e52",
   "metadata": {},
   "outputs": [],
   "source": []
  }
 ],
 "metadata": {
  "kernelspec": {
   "display_name": "Python 3",
   "language": "python",
   "name": "python3"
  },
  "language_info": {
   "codemirror_mode": {
    "name": "ipython",
    "version": 3
   },
   "file_extension": ".py",
   "mimetype": "text/x-python",
   "name": "python",
   "nbconvert_exporter": "python",
   "pygments_lexer": "ipython3",
   "version": "3.8.8"
  }
 },
 "nbformat": 4,
 "nbformat_minor": 5
}
