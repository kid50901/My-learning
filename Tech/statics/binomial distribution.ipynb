{
 "cells": [
  {
   "cell_type": "markdown",
   "id": "29d62aa0",
   "metadata": {},
   "source": [
    "# 範例1\n",
    "## 時事描述\n",
    "遊戲實況主丁特認為手遊天堂 M 的出寶機率不符合公佈機率，而進行了一次灑幣實驗。丁特在 9 月 24 日直播《天堂 M》紫布（傳說製作祕笈）製作，前前後後累積花費 200 萬鑽石(約 150 萬台幣)進行 471 次製作，但卻只成功製作 11 件紫布，官方公佈紫布製作成功機率為 10 %\n",
    "## 統計分析\n",
    "* 這邊我們使用 binomial distribution 來計算，如果上面敘述為真，這個事件發生的機率。\n",
    "* 公式"
   ]
  },
  {
   "cell_type": "code",
   "execution_count": null,
   "id": "a686382e",
   "metadata": {},
   "outputs": [],
   "source": []
  },
  {
   "cell_type": "markdown",
   "id": "28137701",
   "metadata": {},
   "source": [
    " $c = \\sqrt{a^{2} b_{xy}^{2}  e^{x}}$"
   ]
  },
  {
   "cell_type": "code",
   "execution_count": null,
   "id": "99af96f8",
   "metadata": {},
   "outputs": [],
   "source": []
  }
 ],
 "metadata": {
  "kernelspec": {
   "display_name": "Python 3",
   "language": "python",
   "name": "python3"
  },
  "language_info": {
   "codemirror_mode": {
    "name": "ipython",
    "version": 3
   },
   "file_extension": ".py",
   "mimetype": "text/x-python",
   "name": "python",
   "nbconvert_exporter": "python",
   "pygments_lexer": "ipython3",
   "version": "3.8.8"
  }
 },
 "nbformat": 4,
 "nbformat_minor": 5
}
